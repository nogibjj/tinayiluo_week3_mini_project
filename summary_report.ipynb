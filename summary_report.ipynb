{
 "cells": [
  {
   "cell_type": "markdown",
   "metadata": {},
   "source": [
    "## Summary Report\n",
    "\n",
    "This is a summary report for the Heart Attack Analysis & Prediction Dataset."
   ]
  },
  {
   "cell_type": "markdown",
   "metadata": {},
   "source": [
    "### Dataset Description\n",
    "\n",
    "+ Age : Age of the patient\n",
    "\n",
    "+ Sex : Sex of the patient\n",
    "\n",
    "+ exang: exercise induced angina (1 = yes; 0 = no)\n",
    "\n",
    "+ ca: number of major vessels (0-3)\n",
    "\n",
    "+ cp : Chest Pain type chest pain type\n",
    "\n",
    "  + Value 1: typical angina\n",
    "\n",
    "  + Value 2: atypical angina\n",
    "\n",
    "  + Value 3: non-anginal pain\n",
    "\n",
    "  + Value 4: asymptomatic\n",
    "\n",
    "+ trtbps : resting blood pressure (in mm Hg)\n",
    "\n",
    "+ chol : cholestoral in mg/dl fetched via BMI sensor\n",
    "\n",
    "+ fbs : (fasting blood sugar > 120 mg/dl) (1 = true; 0 = false)\n",
    "\n",
    "+ rest_ecg : resting electrocardiographic results\n",
    "\n",
    "  + Value 0: normal\n",
    "\n",
    "  + Value 1: having ST-T wave abnormality (T wave inversions and/or ST elevation or depression of > 0.05 mV)\n",
    "\n",
    "  + Value 2: showing probable or definite left ventricular hypertrophy by Estes' criteria\n",
    "\n",
    "+ thalach : maximum heart rate achieved\n",
    "\n",
    "+ target : 0= less chance of heart attack 1= more chance of heart attack"
   ]
  },
  {
   "cell_type": "markdown",
   "metadata": {},
   "source": [
    "### Import Pandas, Matplotlib.pyplot, Polars"
   ]
  },
  {
   "cell_type": "code",
   "execution_count": 10,
   "metadata": {},
   "outputs": [],
   "source": [
    "import pandas as pd\n",
    "import matplotlib.pyplot as plt\n",
    "import polars as pl"
   ]
  },
  {
   "cell_type": "markdown",
   "metadata": {},
   "source": [
    "### Generates Summary Statistics for heart.csv"
   ]
  },
  {
   "cell_type": "code",
   "execution_count": 11,
   "metadata": {},
   "outputs": [
    {
     "ename": "NameError",
     "evalue": "name 'csv' is not defined",
     "output_type": "error",
     "traceback": [
      "\u001b[0;31m---------------------------------------------------------------------------\u001b[0m",
      "\u001b[0;31mNameError\u001b[0m                                 Traceback (most recent call last)",
      "Cell \u001b[0;32mIn[11], line 6\u001b[0m\n\u001b[1;32m      3\u001b[0m     df \u001b[39m=\u001b[39m pl\u001b[39m.\u001b[39mread_csv(csv)\n\u001b[1;32m      4\u001b[0m     \u001b[39mreturn\u001b[39;00m df\u001b[39m.\u001b[39mdescribe()\n\u001b[0;32m----> 6\u001b[0m summary(csv)\n",
      "\u001b[0;31mNameError\u001b[0m: name 'csv' is not defined"
     ]
    }
   ],
   "source": [
    "def summary(csv):\n",
    "    \"\"\"summary statistics in csv\"\"\"\n",
    "    df = pl.read_csv(csv)\n",
    "    return df.describe()\n",
    "\n",
    "\n",
    "summary(\"heart.csv\")"
   ]
  },
  {
   "cell_type": "markdown",
   "metadata": {},
   "source": [
    "### Generate Histogram for Resting Blood Pressure Column"
   ]
  },
  {
   "cell_type": "code",
   "execution_count": null,
   "metadata": {},
   "outputs": [],
   "source": [
    "def histogram_blood_pressure(csv):\n",
    "    \"\"\"generate example visualization of the heart dataset\"\"\"\n",
    "    pd.set_option(\"display.max_columns\", None)\n",
    "    polars_df = pl.read_csv(csv)\n",
    "    plt.figure(figsize=(10, 6))\n",
    "    plt.hist(polars_df[\"trtbps\"], bins=20, edgecolor=\"black\")\n",
    "    plt.title(\"Resting Blood Pressure Distribution\")\n",
    "    plt.xlabel(\"Resting Blood Pressure\")\n",
    "    plt.ylabel(\"Frequency\")\n",
    "    plt.show()\n",
    "\n",
    "\n",
    "histogram_blood_pressure(\"heart.csv\")"
   ]
  }
 ],
 "metadata": {
  "kernelspec": {
   "display_name": "base",
   "language": "python",
   "name": "python3"
  },
  "language_info": {
   "codemirror_mode": {
    "name": "ipython",
    "version": 3
   },
   "file_extension": ".py",
   "mimetype": "text/x-python",
   "name": "python",
   "nbconvert_exporter": "python",
   "pygments_lexer": "ipython3",
   "version": "3.11.5"
  },
  "orig_nbformat": 4
 },
 "nbformat": 4,
 "nbformat_minor": 2
}
